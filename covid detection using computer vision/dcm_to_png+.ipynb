{
 "cells": [
  {
   "cell_type": "code",
   "execution_count": 1,
   "metadata": {},
   "outputs": [
    {
     "name": "stdout",
     "output_type": "stream",
     "text": [
      "['f566c3b0-cfd0-4857-8155-6e4c44e5c442.dcm', 'f569df59-d9b3-4af9-8b26-657ee2abcd9a.dcm', 'f572b812-8956-414f-8c2d-ba18603f59de.dcm', 'f574b116-7f36-4ed5-9d6c-d885fd7b6caf.dcm', 'f574ff99-c50b-47e9-95fa-03d5eaae7069.dcm', 'f583fe64-e101-4a4d-a2d1-acaab5ae915f.dcm', 'f593cb8e-047a-48d1-b1f5-7d637fb94ce6.dcm', 'f603fefa-2256-40d5-890b-931a943ea8c2.dcm', 'f609f84e-7834-4854-925e-bb4b883e445a.dcm']\n"
     ]
    }
   ],
   "source": [
    "import cv2\n",
    "import os\n",
    "import pydicom\n",
    "os.chdir(r\"D:\\AIML PROJ\") \n",
    "cwd = os.getcwd()\n",
    "cwd\n",
    "inputdir = 'train_dicom'\n",
    "outdir = 'test_png'\n",
    "out_dir_1='train_img'\n",
    "#os.mkdir(outdir)\n",
    "\n",
    "test_list = [ f for f in  os.listdir(inputdir)]\n",
    "print(test_list)\n",
    "#test_list=inputdir\n",
    "for f in test_list:   # remove \"[:10]\" to convert all images \n",
    "    ds = pydicom.read_file(os.path.join(inputdir,f)) # read dicom image\n",
    "    img = ds.pixel_array # get image array\n",
    "    cv2.imwrite(os.path.join(outdir,f.replace('.dcm','.png')),img) # write png image"
   ]
  },
  {
   "cell_type": "code",
   "execution_count": 2,
   "metadata": {},
   "outputs": [
    {
     "data": {
      "text/plain": [
       "(1024, 1024, 3)"
      ]
     },
     "execution_count": 2,
     "metadata": {},
     "output_type": "execute_result"
    }
   ],
   "source": [
    "os.chdir(r\"D:\\AIML PROJ\\test_png\") \n",
    "cwd = os.getcwd()\n",
    "cwd\n",
    "img = cv2.imread(\"f566c3b0-cfd0-4857-8155-6e4c44e5c442.png\", cv2.IMREAD_COLOR)\n",
    "img.shape"
   ]
  },
  {
   "cell_type": "code",
   "execution_count": 3,
   "metadata": {},
   "outputs": [],
   "source": [
    "import os \n",
    "import pandas as pd\n",
    "import numpy as np\n",
    "from PIL import Image\n",
    "import matplotlib.pyplot as plt\n",
    "from tqdm import tqdm\n",
    "from sklearn.model_selection import train_test_split\n",
    "from pydicom import dcmread\n",
    "import seaborn as sns"
   ]
  },
  {
   "cell_type": "code",
   "execution_count": 4,
   "metadata": {},
   "outputs": [
    {
     "name": "stdout",
     "output_type": "stream",
     "text": [
      "Current working directory: D:\\AIML PROJ\n"
     ]
    }
   ],
   "source": [
    "os.chdir(r\"D:\\AIML PROJ\") \n",
    "cwd = os.getcwd() \n",
    "print(\"Current working directory:\", cwd)"
   ]
  },
  {
   "cell_type": "code",
   "execution_count": 5,
   "metadata": {},
   "outputs": [],
   "source": [
    "datanew = np.load('image_array_final.npy',allow_pickle=True)"
   ]
  },
  {
   "cell_type": "code",
   "execution_count": 6,
   "metadata": {},
   "outputs": [
    {
     "data": {
      "text/plain": [
       "array({'7002c25e-83ce-4af1-9cdb-a9d4899d6104': array([[140, 151, 140, ...,  22,  21,  23],\n",
       "       [145, 162, 149, ...,  20,  20,  20],\n",
       "       [139, 137, 147, ...,  20,  20,  21],\n",
       "       ...,\n",
       "       [225, 214, 216, ..., 184, 185, 200],\n",
       "       [231, 216, 216, ..., 184, 190, 201],\n",
       "       [244, 234, 234, ..., 198, 203, 214]], dtype=uint8), '6a5d55af-fc99-4957-9404-f08e4150dc55': array([[  2,   3,   2, ...,   2,   3,   3],\n",
       "       [  3,   3,   3, ...,   3,   3,   2],\n",
       "       [  2,   3,   3, ...,   3,   3,   2],\n",
       "       ...,\n",
       "       [ 38,  33,  31, ..., 151, 149, 153],\n",
       "       [ 38,  43,  38, ..., 156, 154, 153],\n",
       "       [ 36,  33,  31, ..., 171, 163, 164]], dtype=uint8), '3f151141-a3bb-47aa-a213-4a90e8c55502': array([[3, 3, 3, ..., 2, 2, 2],\n",
       "       [2, 3, 3, ..., 2, 2, 2],\n",
       "       [3, 3, 3, ..., 2, 2, 2],\n",
       "       ...,\n",
       "       [2, 3, 3, ..., 5, 5, 3],\n",
       "       [2, 3, 3, ..., 5, 5, 3],\n",
       "       [3, 3, 3, ..., 5, 4, 4]], dtype=uint8), '4206173d-0db2-4f32-80fb-0bd99d5532e1': array([[ 25,  13,   8, ...,  81,  93, 127],\n",
       "       [ 24,  13,   9, ...,  60,  71,  99],\n",
       "       [ 23,  12,   7, ...,  45,  55,  79],\n",
       "       ...,\n",
       "       [ 12,  11,   8, ..., 113, 123, 117],\n",
       "       [ 16,  15,  14, ..., 114, 121, 118],\n",
       "       [ 19,  16,  25, ..., 114, 123, 119]], dtype=uint8), 'bcee03c8-2ff9-4b01-a6d6-a4ee99565d81': array([[ 6,  4,  5, ..., 10, 13, 15],\n",
       "       [ 6,  6,  5, ...,  6,  7,  8],\n",
       "       [ 6,  6,  5, ...,  5,  5,  6],\n",
       "       ...,\n",
       "       [ 3,  3,  2, ..., 56, 58, 66],\n",
       "       [ 4,  3,  2, ..., 57, 58, 63],\n",
       "       [ 3,  3,  2, ..., 56, 60, 67]], dtype=uint8), '4bc8ce99-2420-48c2-a768-d067da67ced2': array([[203, 157, 128, ...,  58,  51,  49],\n",
       "       [190, 144, 127, ...,  62,  52,  50],\n",
       "       [191, 145, 120, ...,  68,  56,  52],\n",
       "       ...,\n",
       "       [ 40,  40,  41, ..., 196, 196, 210],\n",
       "       [ 39,  38,  38, ..., 198, 199, 212],\n",
       "       [ 37,  36,  39, ..., 211, 213, 225]], dtype=uint8), 'e5ee965b-7a79-4ceb-986c-a775a3c1d7a8': array([[0, 2, 2, ..., 0, 0, 0],\n",
       "       [0, 2, 2, ..., 0, 0, 0],\n",
       "       [1, 2, 2, ..., 0, 0, 0],\n",
       "       ...,\n",
       "       [0, 0, 0, ..., 0, 0, 0],\n",
       "       [0, 0, 0, ..., 0, 0, 0],\n",
       "       [0, 0, 0, ..., 0, 0, 0]], dtype=uint8), 'b12ab5b1-c824-4776-b859-df3ee1817269': array([[129, 142, 143, ..., 195, 195, 192],\n",
       "       [126, 138, 135, ..., 200, 201, 199],\n",
       "       [123, 134, 129, ..., 203, 204, 204],\n",
       "       ...,\n",
       "       [ 51,  59,  63, ..., 184, 188, 169],\n",
       "       [ 49,  54,  57, ..., 181, 177, 167],\n",
       "       [ 52,  62,  66, ..., 174, 173, 170]], dtype=uint8), 'cb815f3a-5014-4bbe-9e34-828149ba9f6e': array([[50, 58, 47, ..., 31, 34, 36],\n",
       "       [36, 41, 34, ..., 25, 28, 30],\n",
       "       [30, 33, 27, ..., 23, 25, 25],\n",
       "       ...,\n",
       "       [ 9,  9,  6, ...,  6,  6,  6],\n",
       "       [ 8,  7,  6, ...,  6,  6,  6],\n",
       "       [ 5,  6,  6, ...,  6,  6,  6]], dtype=uint8), 'e6a3f420-39d4-4042-8485-87024e7fb4f3': array([[191, 184, 178, ...,  11,  11,   9],\n",
       "       [180, 176, 169, ...,  10,  11,   9],\n",
       "       [174, 168, 155, ...,  10,  11,   9],\n",
       "       ...,\n",
       "       [189, 180, 143, ...,  11,  11,  10],\n",
       "       [192, 183, 146, ...,  11,  11,  10],\n",
       "       [196, 190, 151, ...,  11,  11,  10]], dtype=uint8)}, dtype=object)"
      ]
     },
     "execution_count": 6,
     "metadata": {},
     "output_type": "execute_result"
    }
   ],
   "source": [
    "datanew"
   ]
  },
  {
   "cell_type": "code",
   "execution_count": 7,
   "metadata": {},
   "outputs": [],
   "source": [
    "df=pd.read_csv('annotation.txt')"
   ]
  },
  {
   "cell_type": "code",
   "execution_count": 8,
   "metadata": {},
   "outputs": [
    {
     "data": {
      "text/html": [
       "<div>\n",
       "<style scoped>\n",
       "    .dataframe tbody tr th:only-of-type {\n",
       "        vertical-align: middle;\n",
       "    }\n",
       "\n",
       "    .dataframe tbody tr th {\n",
       "        vertical-align: top;\n",
       "    }\n",
       "\n",
       "    .dataframe thead th {\n",
       "        text-align: right;\n",
       "    }\n",
       "</style>\n",
       "<table border=\"1\" class=\"dataframe\">\n",
       "  <thead>\n",
       "    <tr style=\"text-align: right;\">\n",
       "      <th></th>\n",
       "      <th>patientId</th>\n",
       "      <th>x</th>\n",
       "      <th>x-max</th>\n",
       "      <th>y</th>\n",
       "      <th>y-max</th>\n",
       "      <th>width</th>\n",
       "      <th>height</th>\n",
       "      <th>Target</th>\n",
       "      <th>class</th>\n",
       "    </tr>\n",
       "  </thead>\n",
       "  <tbody>\n",
       "    <tr>\n",
       "      <th>0</th>\n",
       "      <td>7002c25e-83ce-4af1-9cdb-a9d4899d6104</td>\n",
       "      <td>115.25</td>\n",
       "      <td>168.75</td>\n",
       "      <td>51.75</td>\n",
       "      <td>194.50</td>\n",
       "      <td>53.50</td>\n",
       "      <td>142.75</td>\n",
       "      <td>1</td>\n",
       "      <td>Lung Opacity</td>\n",
       "    </tr>\n",
       "    <tr>\n",
       "      <th>1</th>\n",
       "      <td>6a5d55af-fc99-4957-9404-f08e4150dc55</td>\n",
       "      <td>51.00</td>\n",
       "      <td>80.00</td>\n",
       "      <td>112.00</td>\n",
       "      <td>127.75</td>\n",
       "      <td>29.00</td>\n",
       "      <td>15.75</td>\n",
       "      <td>1</td>\n",
       "      <td>Lung Opacity</td>\n",
       "    </tr>\n",
       "    <tr>\n",
       "      <th>2</th>\n",
       "      <td>3f151141-a3bb-47aa-a213-4a90e8c55502</td>\n",
       "      <td>135.00</td>\n",
       "      <td>191.25</td>\n",
       "      <td>87.25</td>\n",
       "      <td>196.50</td>\n",
       "      <td>56.25</td>\n",
       "      <td>109.25</td>\n",
       "      <td>1</td>\n",
       "      <td>Lung Opacity</td>\n",
       "    </tr>\n",
       "    <tr>\n",
       "      <th>3</th>\n",
       "      <td>4206173d-0db2-4f32-80fb-0bd99d5532e1</td>\n",
       "      <td>142.50</td>\n",
       "      <td>206.25</td>\n",
       "      <td>100.50</td>\n",
       "      <td>150.25</td>\n",
       "      <td>63.75</td>\n",
       "      <td>49.75</td>\n",
       "      <td>1</td>\n",
       "      <td>Lung Opacity</td>\n",
       "    </tr>\n",
       "    <tr>\n",
       "      <th>4</th>\n",
       "      <td>bcee03c8-2ff9-4b01-a6d6-a4ee99565d81</td>\n",
       "      <td>152.25</td>\n",
       "      <td>202.50</td>\n",
       "      <td>66.50</td>\n",
       "      <td>234.00</td>\n",
       "      <td>50.25</td>\n",
       "      <td>167.50</td>\n",
       "      <td>1</td>\n",
       "      <td>Lung Opacity</td>\n",
       "    </tr>\n",
       "    <tr>\n",
       "      <th>5</th>\n",
       "      <td>4bc8ce99-2420-48c2-a768-d067da67ced2</td>\n",
       "      <td>138.00</td>\n",
       "      <td>194.50</td>\n",
       "      <td>52.25</td>\n",
       "      <td>167.25</td>\n",
       "      <td>56.50</td>\n",
       "      <td>115.00</td>\n",
       "      <td>1</td>\n",
       "      <td>Lung Opacity</td>\n",
       "    </tr>\n",
       "    <tr>\n",
       "      <th>6</th>\n",
       "      <td>e5ee965b-7a79-4ceb-986c-a775a3c1d7a8</td>\n",
       "      <td>157.00</td>\n",
       "      <td>205.00</td>\n",
       "      <td>61.00</td>\n",
       "      <td>127.25</td>\n",
       "      <td>48.00</td>\n",
       "      <td>66.25</td>\n",
       "      <td>1</td>\n",
       "      <td>Lung Opacity</td>\n",
       "    </tr>\n",
       "    <tr>\n",
       "      <th>7</th>\n",
       "      <td>b12ab5b1-c824-4776-b859-df3ee1817269</td>\n",
       "      <td>168.75</td>\n",
       "      <td>221.75</td>\n",
       "      <td>130.50</td>\n",
       "      <td>188.75</td>\n",
       "      <td>53.00</td>\n",
       "      <td>58.25</td>\n",
       "      <td>1</td>\n",
       "      <td>Lung Opacity</td>\n",
       "    </tr>\n",
       "    <tr>\n",
       "      <th>8</th>\n",
       "      <td>cb815f3a-5014-4bbe-9e34-828149ba9f6e</td>\n",
       "      <td>142.00</td>\n",
       "      <td>198.00</td>\n",
       "      <td>64.75</td>\n",
       "      <td>169.00</td>\n",
       "      <td>56.00</td>\n",
       "      <td>104.25</td>\n",
       "      <td>1</td>\n",
       "      <td>Lung Opacity</td>\n",
       "    </tr>\n",
       "    <tr>\n",
       "      <th>9</th>\n",
       "      <td>e6a3f420-39d4-4042-8485-87024e7fb4f3</td>\n",
       "      <td>179.50</td>\n",
       "      <td>212.50</td>\n",
       "      <td>147.50</td>\n",
       "      <td>196.75</td>\n",
       "      <td>33.00</td>\n",
       "      <td>49.25</td>\n",
       "      <td>1</td>\n",
       "      <td>Lung Opacity</td>\n",
       "    </tr>\n",
       "  </tbody>\n",
       "</table>\n",
       "</div>"
      ],
      "text/plain": [
       "                              patientId       x   x-max       y   y-max  \\\n",
       "0  7002c25e-83ce-4af1-9cdb-a9d4899d6104  115.25  168.75   51.75  194.50   \n",
       "1  6a5d55af-fc99-4957-9404-f08e4150dc55   51.00   80.00  112.00  127.75   \n",
       "2  3f151141-a3bb-47aa-a213-4a90e8c55502  135.00  191.25   87.25  196.50   \n",
       "3  4206173d-0db2-4f32-80fb-0bd99d5532e1  142.50  206.25  100.50  150.25   \n",
       "4  bcee03c8-2ff9-4b01-a6d6-a4ee99565d81  152.25  202.50   66.50  234.00   \n",
       "5  4bc8ce99-2420-48c2-a768-d067da67ced2  138.00  194.50   52.25  167.25   \n",
       "6  e5ee965b-7a79-4ceb-986c-a775a3c1d7a8  157.00  205.00   61.00  127.25   \n",
       "7  b12ab5b1-c824-4776-b859-df3ee1817269  168.75  221.75  130.50  188.75   \n",
       "8  cb815f3a-5014-4bbe-9e34-828149ba9f6e  142.00  198.00   64.75  169.00   \n",
       "9  e6a3f420-39d4-4042-8485-87024e7fb4f3  179.50  212.50  147.50  196.75   \n",
       "\n",
       "   width  height  Target         class  \n",
       "0  53.50  142.75       1  Lung Opacity  \n",
       "1  29.00   15.75       1  Lung Opacity  \n",
       "2  56.25  109.25       1  Lung Opacity  \n",
       "3  63.75   49.75       1  Lung Opacity  \n",
       "4  50.25  167.50       1  Lung Opacity  \n",
       "5  56.50  115.00       1  Lung Opacity  \n",
       "6  48.00   66.25       1  Lung Opacity  \n",
       "7  53.00   58.25       1  Lung Opacity  \n",
       "8  56.00  104.25       1  Lung Opacity  \n",
       "9  33.00   49.25       1  Lung Opacity  "
      ]
     },
     "execution_count": 8,
     "metadata": {},
     "output_type": "execute_result"
    }
   ],
   "source": [
    "df.head(10)"
   ]
  },
  {
   "cell_type": "code",
   "execution_count": 9,
   "metadata": {},
   "outputs": [],
   "source": [
    "train_list=[]\n",
    "patientId=[]\n",
    "for pid in df['patientId']:\n",
    "    patientId.append(pid)\n",
    "    pid=pid+'.dcm'\n",
    "    train_list.append(pid)"
   ]
  },
  {
   "cell_type": "code",
   "execution_count": 10,
   "metadata": {},
   "outputs": [
    {
     "data": {
      "text/plain": [
       "['7002c25e-83ce-4af1-9cdb-a9d4899d6104',\n",
       " '6a5d55af-fc99-4957-9404-f08e4150dc55',\n",
       " '3f151141-a3bb-47aa-a213-4a90e8c55502',\n",
       " '4206173d-0db2-4f32-80fb-0bd99d5532e1',\n",
       " 'bcee03c8-2ff9-4b01-a6d6-a4ee99565d81',\n",
       " '4bc8ce99-2420-48c2-a768-d067da67ced2',\n",
       " 'e5ee965b-7a79-4ceb-986c-a775a3c1d7a8',\n",
       " 'b12ab5b1-c824-4776-b859-df3ee1817269',\n",
       " 'cb815f3a-5014-4bbe-9e34-828149ba9f6e',\n",
       " 'e6a3f420-39d4-4042-8485-87024e7fb4f3']"
      ]
     },
     "execution_count": 10,
     "metadata": {},
     "output_type": "execute_result"
    }
   ],
   "source": [
    "patientId"
   ]
  },
  {
   "cell_type": "code",
   "execution_count": 11,
   "metadata": {},
   "outputs": [
    {
     "data": {
      "text/plain": [
       "['7002c25e-83ce-4af1-9cdb-a9d4899d6104.dcm',\n",
       " '6a5d55af-fc99-4957-9404-f08e4150dc55.dcm',\n",
       " '3f151141-a3bb-47aa-a213-4a90e8c55502.dcm',\n",
       " '4206173d-0db2-4f32-80fb-0bd99d5532e1.dcm',\n",
       " 'bcee03c8-2ff9-4b01-a6d6-a4ee99565d81.dcm',\n",
       " '4bc8ce99-2420-48c2-a768-d067da67ced2.dcm',\n",
       " 'e5ee965b-7a79-4ceb-986c-a775a3c1d7a8.dcm',\n",
       " 'b12ab5b1-c824-4776-b859-df3ee1817269.dcm',\n",
       " 'cb815f3a-5014-4bbe-9e34-828149ba9f6e.dcm',\n",
       " 'e6a3f420-39d4-4042-8485-87024e7fb4f3.dcm']"
      ]
     },
     "execution_count": 11,
     "metadata": {},
     "output_type": "execute_result"
    }
   ],
   "source": [
    "train_list"
   ]
  },
  {
   "cell_type": "code",
   "execution_count": 12,
   "metadata": {},
   "outputs": [],
   "source": [
    "inputdir = 'stage_2_train_images'\n",
    "for f in train_list:   # remove \"[:10]\" to convert all images \n",
    "    ds = pydicom.read_file(os.path.join(inputdir,f)) # read dicom image\n",
    "    img = ds.pixel_array # get image array\n",
    "    cv2.imwrite(os.path.join(out_dir_1,f.replace('.dcm','.png')),img) # write png image\n",
    "    "
   ]
  },
  {
   "cell_type": "code",
   "execution_count": 14,
   "metadata": {},
   "outputs": [],
   "source": [
    "images=[]\n",
    "for f in patientId:\n",
    "    f=f+'.png' \n",
    "    path_png=os.path.join(out_dir_1,f)\n",
    "    images.append( path_png)"
   ]
  },
  {
   "cell_type": "code",
   "execution_count": 15,
   "metadata": {},
   "outputs": [
    {
     "data": {
      "text/plain": [
       "['train_img\\\\7002c25e-83ce-4af1-9cdb-a9d4899d6104.png',\n",
       " 'train_img\\\\6a5d55af-fc99-4957-9404-f08e4150dc55.png',\n",
       " 'train_img\\\\3f151141-a3bb-47aa-a213-4a90e8c55502.png',\n",
       " 'train_img\\\\4206173d-0db2-4f32-80fb-0bd99d5532e1.png',\n",
       " 'train_img\\\\bcee03c8-2ff9-4b01-a6d6-a4ee99565d81.png',\n",
       " 'train_img\\\\4bc8ce99-2420-48c2-a768-d067da67ced2.png',\n",
       " 'train_img\\\\e5ee965b-7a79-4ceb-986c-a775a3c1d7a8.png',\n",
       " 'train_img\\\\b12ab5b1-c824-4776-b859-df3ee1817269.png',\n",
       " 'train_img\\\\cb815f3a-5014-4bbe-9e34-828149ba9f6e.png',\n",
       " 'train_img\\\\e6a3f420-39d4-4042-8485-87024e7fb4f3.png']"
      ]
     },
     "execution_count": 15,
     "metadata": {},
     "output_type": "execute_result"
    }
   ],
   "source": [
    "images"
   ]
  },
  {
   "cell_type": "code",
   "execution_count": 16,
   "metadata": {},
   "outputs": [
    {
     "data": {
      "text/plain": [
       "(1024, 1024, 3)"
      ]
     },
     "execution_count": 16,
     "metadata": {},
     "output_type": "execute_result"
    }
   ],
   "source": [
    "img = cv2.imread(images[0], cv2.IMREAD_COLOR)\n",
    "cv2.imshow('image', img)\n",
    "img.shape"
   ]
  },
  {
   "cell_type": "code",
   "execution_count": 17,
   "metadata": {},
   "outputs": [],
   "source": [
    "X_df = pd.DataFrame({'patientId':patientId,'image_path':images})"
   ]
  },
  {
   "cell_type": "code",
   "execution_count": 18,
   "metadata": {},
   "outputs": [
    {
     "data": {
      "text/html": [
       "<div>\n",
       "<style scoped>\n",
       "    .dataframe tbody tr th:only-of-type {\n",
       "        vertical-align: middle;\n",
       "    }\n",
       "\n",
       "    .dataframe tbody tr th {\n",
       "        vertical-align: top;\n",
       "    }\n",
       "\n",
       "    .dataframe thead th {\n",
       "        text-align: right;\n",
       "    }\n",
       "</style>\n",
       "<table border=\"1\" class=\"dataframe\">\n",
       "  <thead>\n",
       "    <tr style=\"text-align: right;\">\n",
       "      <th></th>\n",
       "      <th>patientId</th>\n",
       "      <th>image_path</th>\n",
       "    </tr>\n",
       "  </thead>\n",
       "  <tbody>\n",
       "    <tr>\n",
       "      <th>0</th>\n",
       "      <td>7002c25e-83ce-4af1-9cdb-a9d4899d6104</td>\n",
       "      <td>train_img\\7002c25e-83ce-4af1-9cdb-a9d4899d6104...</td>\n",
       "    </tr>\n",
       "    <tr>\n",
       "      <th>1</th>\n",
       "      <td>6a5d55af-fc99-4957-9404-f08e4150dc55</td>\n",
       "      <td>train_img\\6a5d55af-fc99-4957-9404-f08e4150dc55...</td>\n",
       "    </tr>\n",
       "    <tr>\n",
       "      <th>2</th>\n",
       "      <td>3f151141-a3bb-47aa-a213-4a90e8c55502</td>\n",
       "      <td>train_img\\3f151141-a3bb-47aa-a213-4a90e8c55502...</td>\n",
       "    </tr>\n",
       "    <tr>\n",
       "      <th>3</th>\n",
       "      <td>4206173d-0db2-4f32-80fb-0bd99d5532e1</td>\n",
       "      <td>train_img\\4206173d-0db2-4f32-80fb-0bd99d5532e1...</td>\n",
       "    </tr>\n",
       "    <tr>\n",
       "      <th>4</th>\n",
       "      <td>bcee03c8-2ff9-4b01-a6d6-a4ee99565d81</td>\n",
       "      <td>train_img\\bcee03c8-2ff9-4b01-a6d6-a4ee99565d81...</td>\n",
       "    </tr>\n",
       "    <tr>\n",
       "      <th>5</th>\n",
       "      <td>4bc8ce99-2420-48c2-a768-d067da67ced2</td>\n",
       "      <td>train_img\\4bc8ce99-2420-48c2-a768-d067da67ced2...</td>\n",
       "    </tr>\n",
       "    <tr>\n",
       "      <th>6</th>\n",
       "      <td>e5ee965b-7a79-4ceb-986c-a775a3c1d7a8</td>\n",
       "      <td>train_img\\e5ee965b-7a79-4ceb-986c-a775a3c1d7a8...</td>\n",
       "    </tr>\n",
       "    <tr>\n",
       "      <th>7</th>\n",
       "      <td>b12ab5b1-c824-4776-b859-df3ee1817269</td>\n",
       "      <td>train_img\\b12ab5b1-c824-4776-b859-df3ee1817269...</td>\n",
       "    </tr>\n",
       "    <tr>\n",
       "      <th>8</th>\n",
       "      <td>cb815f3a-5014-4bbe-9e34-828149ba9f6e</td>\n",
       "      <td>train_img\\cb815f3a-5014-4bbe-9e34-828149ba9f6e...</td>\n",
       "    </tr>\n",
       "    <tr>\n",
       "      <th>9</th>\n",
       "      <td>e6a3f420-39d4-4042-8485-87024e7fb4f3</td>\n",
       "      <td>train_img\\e6a3f420-39d4-4042-8485-87024e7fb4f3...</td>\n",
       "    </tr>\n",
       "  </tbody>\n",
       "</table>\n",
       "</div>"
      ],
      "text/plain": [
       "                              patientId  \\\n",
       "0  7002c25e-83ce-4af1-9cdb-a9d4899d6104   \n",
       "1  6a5d55af-fc99-4957-9404-f08e4150dc55   \n",
       "2  3f151141-a3bb-47aa-a213-4a90e8c55502   \n",
       "3  4206173d-0db2-4f32-80fb-0bd99d5532e1   \n",
       "4  bcee03c8-2ff9-4b01-a6d6-a4ee99565d81   \n",
       "5  4bc8ce99-2420-48c2-a768-d067da67ced2   \n",
       "6  e5ee965b-7a79-4ceb-986c-a775a3c1d7a8   \n",
       "7  b12ab5b1-c824-4776-b859-df3ee1817269   \n",
       "8  cb815f3a-5014-4bbe-9e34-828149ba9f6e   \n",
       "9  e6a3f420-39d4-4042-8485-87024e7fb4f3   \n",
       "\n",
       "                                          image_path  \n",
       "0  train_img\\7002c25e-83ce-4af1-9cdb-a9d4899d6104...  \n",
       "1  train_img\\6a5d55af-fc99-4957-9404-f08e4150dc55...  \n",
       "2  train_img\\3f151141-a3bb-47aa-a213-4a90e8c55502...  \n",
       "3  train_img\\4206173d-0db2-4f32-80fb-0bd99d5532e1...  \n",
       "4  train_img\\bcee03c8-2ff9-4b01-a6d6-a4ee99565d81...  \n",
       "5  train_img\\4bc8ce99-2420-48c2-a768-d067da67ced2...  \n",
       "6  train_img\\e5ee965b-7a79-4ceb-986c-a775a3c1d7a8...  \n",
       "7  train_img\\b12ab5b1-c824-4776-b859-df3ee1817269...  \n",
       "8  train_img\\cb815f3a-5014-4bbe-9e34-828149ba9f6e...  \n",
       "9  train_img\\e6a3f420-39d4-4042-8485-87024e7fb4f3...  "
      ]
     },
     "execution_count": 18,
     "metadata": {},
     "output_type": "execute_result"
    }
   ],
   "source": [
    "X_df"
   ]
  },
  {
   "cell_type": "code",
   "execution_count": 19,
   "metadata": {},
   "outputs": [],
   "source": [
    "data_frame = df.merge(X_df, on='patientId', how='left')"
   ]
  },
  {
   "cell_type": "code",
   "execution_count": 20,
   "metadata": {},
   "outputs": [
    {
     "data": {
      "text/html": [
       "<div>\n",
       "<style scoped>\n",
       "    .dataframe tbody tr th:only-of-type {\n",
       "        vertical-align: middle;\n",
       "    }\n",
       "\n",
       "    .dataframe tbody tr th {\n",
       "        vertical-align: top;\n",
       "    }\n",
       "\n",
       "    .dataframe thead th {\n",
       "        text-align: right;\n",
       "    }\n",
       "</style>\n",
       "<table border=\"1\" class=\"dataframe\">\n",
       "  <thead>\n",
       "    <tr style=\"text-align: right;\">\n",
       "      <th></th>\n",
       "      <th>patientId</th>\n",
       "      <th>x</th>\n",
       "      <th>x-max</th>\n",
       "      <th>y</th>\n",
       "      <th>y-max</th>\n",
       "      <th>width</th>\n",
       "      <th>height</th>\n",
       "      <th>Target</th>\n",
       "      <th>class</th>\n",
       "      <th>image_path</th>\n",
       "    </tr>\n",
       "  </thead>\n",
       "  <tbody>\n",
       "    <tr>\n",
       "      <th>0</th>\n",
       "      <td>7002c25e-83ce-4af1-9cdb-a9d4899d6104</td>\n",
       "      <td>115.25</td>\n",
       "      <td>168.75</td>\n",
       "      <td>51.75</td>\n",
       "      <td>194.50</td>\n",
       "      <td>53.50</td>\n",
       "      <td>142.75</td>\n",
       "      <td>1</td>\n",
       "      <td>Lung Opacity</td>\n",
       "      <td>train_img\\7002c25e-83ce-4af1-9cdb-a9d4899d6104...</td>\n",
       "    </tr>\n",
       "    <tr>\n",
       "      <th>1</th>\n",
       "      <td>6a5d55af-fc99-4957-9404-f08e4150dc55</td>\n",
       "      <td>51.00</td>\n",
       "      <td>80.00</td>\n",
       "      <td>112.00</td>\n",
       "      <td>127.75</td>\n",
       "      <td>29.00</td>\n",
       "      <td>15.75</td>\n",
       "      <td>1</td>\n",
       "      <td>Lung Opacity</td>\n",
       "      <td>train_img\\6a5d55af-fc99-4957-9404-f08e4150dc55...</td>\n",
       "    </tr>\n",
       "    <tr>\n",
       "      <th>2</th>\n",
       "      <td>3f151141-a3bb-47aa-a213-4a90e8c55502</td>\n",
       "      <td>135.00</td>\n",
       "      <td>191.25</td>\n",
       "      <td>87.25</td>\n",
       "      <td>196.50</td>\n",
       "      <td>56.25</td>\n",
       "      <td>109.25</td>\n",
       "      <td>1</td>\n",
       "      <td>Lung Opacity</td>\n",
       "      <td>train_img\\3f151141-a3bb-47aa-a213-4a90e8c55502...</td>\n",
       "    </tr>\n",
       "    <tr>\n",
       "      <th>3</th>\n",
       "      <td>4206173d-0db2-4f32-80fb-0bd99d5532e1</td>\n",
       "      <td>142.50</td>\n",
       "      <td>206.25</td>\n",
       "      <td>100.50</td>\n",
       "      <td>150.25</td>\n",
       "      <td>63.75</td>\n",
       "      <td>49.75</td>\n",
       "      <td>1</td>\n",
       "      <td>Lung Opacity</td>\n",
       "      <td>train_img\\4206173d-0db2-4f32-80fb-0bd99d5532e1...</td>\n",
       "    </tr>\n",
       "    <tr>\n",
       "      <th>4</th>\n",
       "      <td>bcee03c8-2ff9-4b01-a6d6-a4ee99565d81</td>\n",
       "      <td>152.25</td>\n",
       "      <td>202.50</td>\n",
       "      <td>66.50</td>\n",
       "      <td>234.00</td>\n",
       "      <td>50.25</td>\n",
       "      <td>167.50</td>\n",
       "      <td>1</td>\n",
       "      <td>Lung Opacity</td>\n",
       "      <td>train_img\\bcee03c8-2ff9-4b01-a6d6-a4ee99565d81...</td>\n",
       "    </tr>\n",
       "  </tbody>\n",
       "</table>\n",
       "</div>"
      ],
      "text/plain": [
       "                              patientId       x   x-max       y   y-max  \\\n",
       "0  7002c25e-83ce-4af1-9cdb-a9d4899d6104  115.25  168.75   51.75  194.50   \n",
       "1  6a5d55af-fc99-4957-9404-f08e4150dc55   51.00   80.00  112.00  127.75   \n",
       "2  3f151141-a3bb-47aa-a213-4a90e8c55502  135.00  191.25   87.25  196.50   \n",
       "3  4206173d-0db2-4f32-80fb-0bd99d5532e1  142.50  206.25  100.50  150.25   \n",
       "4  bcee03c8-2ff9-4b01-a6d6-a4ee99565d81  152.25  202.50   66.50  234.00   \n",
       "\n",
       "   width  height  Target         class  \\\n",
       "0  53.50  142.75       1  Lung Opacity   \n",
       "1  29.00   15.75       1  Lung Opacity   \n",
       "2  56.25  109.25       1  Lung Opacity   \n",
       "3  63.75   49.75       1  Lung Opacity   \n",
       "4  50.25  167.50       1  Lung Opacity   \n",
       "\n",
       "                                          image_path  \n",
       "0  train_img\\7002c25e-83ce-4af1-9cdb-a9d4899d6104...  \n",
       "1  train_img\\6a5d55af-fc99-4957-9404-f08e4150dc55...  \n",
       "2  train_img\\3f151141-a3bb-47aa-a213-4a90e8c55502...  \n",
       "3  train_img\\4206173d-0db2-4f32-80fb-0bd99d5532e1...  \n",
       "4  train_img\\bcee03c8-2ff9-4b01-a6d6-a4ee99565d81...  "
      ]
     },
     "execution_count": 20,
     "metadata": {},
     "output_type": "execute_result"
    }
   ],
   "source": [
    "data_frame.head(5)"
   ]
  }
 ],
 "metadata": {
  "kernelspec": {
   "display_name": "Python 3",
   "language": "python",
   "name": "python3"
  },
  "language_info": {
   "codemirror_mode": {
    "name": "ipython",
    "version": 3
   },
   "file_extension": ".py",
   "mimetype": "text/x-python",
   "name": "python",
   "nbconvert_exporter": "python",
   "pygments_lexer": "ipython3",
   "version": "3.7.3"
  }
 },
 "nbformat": 4,
 "nbformat_minor": 2
}
